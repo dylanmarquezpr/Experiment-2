{
 "cells": [
  {
   "cell_type": "markdown",
   "id": "75447d19-8c71-4e23-8cdf-bd96825d6ec2",
   "metadata": {},
   "source": [
    "# Experiment 2 - Numerical Python"
   ]
  },
  {
   "cell_type": "markdown",
   "id": "c5eb4729-97dc-466e-b2fa-3896b7d86f0b",
   "metadata": {},
   "source": [
    "#### Name : Dylan Rvy A. Marquez \n",
    "#### Section : 2ECE-B \n",
    "#### Date : 08/25/2025"
   ]
  },
  {
   "cell_type": "markdown",
   "id": "c6cf4284-94be-4cbd-bdd4-92b03dfcd131",
   "metadata": {},
   "source": [
    "## NORMALIZATION PROBLEM \n",
    "##### Normalization is one of the most basic preprocessing techniques in data analytics. This involves centering and scaling process. Centering means subtracting the data from the mean and scaling means dividing with its standard deviation. Mathematically, normalization can be expressed as : \n"
   ]
  },
  {
   "cell_type": "markdown",
   "id": "df7696b7-3cb6-47a8-9207-93e2f7f09d41",
   "metadata": {},
   "source": [
    "### 𝑍 = 𝑋 − 𝑥̅ / 𝜎"
   ]
  },
  {
   "cell_type": "markdown",
   "id": "5d036699-14d6-47d8-a41e-527d803c3822",
   "metadata": {},
   "source": [
    "##### In Python, element-wise mean and element-wise standard deviation can be obtained by using .mean() and.std() calls. In this problem, create a random 5 x 5 ndarray and store it to variable X. Normalize X. Save your normalized ndarray as X_normalized.npy"
   ]
  },
  {
   "cell_type": "code",
   "execution_count": 6,
   "id": "87b3363a-ab78-4f19-8b16-d0b5f317c36b",
   "metadata": {},
   "outputs": [
    {
     "name": "stdout",
     "output_type": "stream",
     "text": [
      "Original Random Matrix:\n",
      " [[0.55222437 0.2854083  0.24140746 0.92158765 0.38675384]\n",
      " [0.7569079  0.91580567 0.43444118 0.06972483 0.69888708]\n",
      " [0.81140476 0.68300544 0.22036459 0.17064861 0.964613  ]\n",
      " [0.77909825 0.74740899 0.69896074 0.19041155 0.02422766]\n",
      " [0.63091493 0.20097298 0.77800763 0.31713622 0.17324337]]\n",
      "\n",
      "Normalized Matrix:\n",
      " [[ 0.15783258 -0.75602855 -0.90673409  1.42292405 -0.40891398]\n",
      " [ 0.85888599  1.40312042 -0.24558197 -1.49475743  0.66016118]\n",
      " [ 1.04554103  0.6057656  -0.97880716 -1.14908742  1.57028847]\n",
      " [ 0.93488926  0.82635165  0.66041348 -1.08139815 -1.65058797]\n",
      " [ 0.42735248 -1.04522459  0.93115384 -0.64735852 -1.1402002 ]]\n"
     ]
    }
   ],
   "source": [
    "import numpy as np  # Import the NumPy library\n",
    "\n",
    "random_matrix = np.random.rand(5, 5) #Creating a random 5x5 matrix with values between 0 and 1\n",
    "\n",
    "matrix_mean = random_matrix.mean() #Calculating the mean\n",
    "matrix_std = random_matrix.std() #Calculating the standard deviation\n",
    "\n",
    "normalized_matrix = (random_matrix - matrix_mean) / matrix_std #Apply normalization formula\n",
    "\n",
    "np.save(\"normalized_matrix.npy\", normalized_matrix) #.npy file for the normalized matrix\n",
    "\n",
    "print(\"Original Random Matrix:\\n\", random_matrix) #print the original values\n",
    "print(\"\\nNormalized Matrix:\\n\", normalized_matrix) #print the normalized values"
   ]
  },
  {
   "cell_type": "markdown",
   "id": "28bb5924-dbd3-420f-be56-b558dd525795",
   "metadata": {},
   "source": [
    "## DIVISIBLE BY 3 PROBLEM:"
   ]
  },
  {
   "cell_type": "markdown",
   "id": "ecb7e826-1deb-454b-b264-b002b8d01cd0",
   "metadata": {},
   "source": [
    "###### Create the following 10 x 10 ndarray which are the squares of the first 100 positive integers. From this ndarray, determine all the elements that are divisible by 3. Save the result as div_by_3.npy\n"
   ]
  },
  {
   "cell_type": "code",
   "execution_count": 7,
   "id": "6b968eba-e567-4921-b3bb-0be33e26bf13",
   "metadata": {},
   "outputs": [
    {
     "name": "stdout",
     "output_type": "stream",
     "text": [
      "Original 10x10 Matrix (Squares of 1–100):\n",
      " [[    1     4     9    16    25    36    49    64    81   100]\n",
      " [  121   144   169   196   225   256   289   324   361   400]\n",
      " [  441   484   529   576   625   676   729   784   841   900]\n",
      " [  961  1024  1089  1156  1225  1296  1369  1444  1521  1600]\n",
      " [ 1681  1764  1849  1936  2025  2116  2209  2304  2401  2500]\n",
      " [ 2601  2704  2809  2916  3025  3136  3249  3364  3481  3600]\n",
      " [ 3721  3844  3969  4096  4225  4356  4489  4624  4761  4900]\n",
      " [ 5041  5184  5329  5476  5625  5776  5929  6084  6241  6400]\n",
      " [ 6561  6724  6889  7056  7225  7396  7569  7744  7921  8100]\n",
      " [ 8281  8464  8649  8836  9025  9216  9409  9604  9801 10000]]\n",
      "\n",
      " The numbers divisible by 3:(Squares of 1–100)\n",
      " [   9   36   81  144  225  324  441  576  729  900 1089 1296 1521 1764\n",
      " 2025 2304 2601 2916 3249 3600 3969 4356 4761 5184 5625 6084 6561 7056\n",
      " 7569 8100 8649 9216 9801]\n",
      "\n",
      " Numbers divisible by 3 saved as 'div_by_3.npy'\n"
     ]
    }
   ],
   "source": [
    "import numpy as np # Import the NumPy library\n",
    "\n",
    "X = (np.arange(1, 101) ** 2).reshape(10, 10) #Create a 10x10 matrix of squares of the first 100 integers\n",
    "print(\"Original 10x10 Matrix (Squares of 1–100):\\n\", X)\n",
    "\n",
    "div_by_3 = X[X % 3 == 0] #Extract numbers divisible by 3 using modulo \n",
    "print(\"\\n The numbers divisible by 3:(Squares of 1–100)\\n\", div_by_3)\n",
    " \n",
    "np.save(\"div_by_3.npy\", div_by_3) #Saving the array\n",
    "print(\"\\n Numbers divisible by 3 saved as 'div_by_3.npy'\")"
   ]
  }
 ],
 "metadata": {
  "kernelspec": {
   "display_name": "Python 3 (ipykernel)",
   "language": "python",
   "name": "python3"
  },
  "language_info": {
   "codemirror_mode": {
    "name": "ipython",
    "version": 3
   },
   "file_extension": ".py",
   "mimetype": "text/x-python",
   "name": "python",
   "nbconvert_exporter": "python",
   "pygments_lexer": "ipython3",
   "version": "3.13.5"
  }
 },
 "nbformat": 4,
 "nbformat_minor": 5
}
